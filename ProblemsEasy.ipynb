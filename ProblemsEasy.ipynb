{
 "cells": [
  {
   "cell_type": "code",
   "execution_count": 4,
   "metadata": {},
   "outputs": [],
   "source": [
    "class ListNode:\n",
    "    def __init__(self, x):\n",
    "        self.val = x\n",
    "        self.next = None\n",
    "        \n",
    "    def append(self, element):\n",
    "        current = self\n",
    "        if current:\n",
    "            while current.next:\n",
    "                current = current.next\n",
    "            current.next = ListNode(element)\n",
    "        else:\n",
    "            self.val = element\n",
    "            self.next = None\n",
    "        \n",
    "    def print_(self):\n",
    "        current = self\n",
    "        if current:\n",
    "            while current.next:\n",
    "                print(current.val)\n",
    "                current = current.next\n",
    "            print(current.val)\n",
    "        else:\n",
    "            print('-')"
   ]
  },
  {
   "cell_type": "code",
   "execution_count": 1,
   "metadata": {},
   "outputs": [],
   "source": [
    "#1. Two Sum (Easy)\n",
    "class Solution:\n",
    "    def twoSum(self, nums, target):\n",
    "        for i in range(len(nums)):\n",
    "            for j in range(i, len(nums)):\n",
    "                if nums[i] + nums[j] == target and i != j:\n",
    "                    return [i, j]"
   ]
  },
  {
   "cell_type": "code",
   "execution_count": 2,
   "metadata": {},
   "outputs": [],
   "source": [
    "#7. Reverse Integer (Easy)\n",
    "class Solution:\n",
    "    def reverse(self, x: int) -> int:\n",
    "        if x < 0:\n",
    "            neg = True\n",
    "        else:\n",
    "            neg = False\n",
    "        res = [int(d) for d in str(abs(x))]\n",
    "        res.reverse()\n",
    "        res = int(''.join(map(str, res)))\n",
    "        if neg:\n",
    "            res *= -1\n",
    "        if res < -2**31 or res > 2**31 - 1:\n",
    "            return 0\n",
    "        return res"
   ]
  },
  {
   "cell_type": "code",
   "execution_count": 3,
   "metadata": {},
   "outputs": [],
   "source": [
    "#9. Palindrome Number (Easy)\n",
    "class Solution:\n",
    "    def isPalindrome(self, x: int) -> bool:\n",
    "        return str(x) == str(x)[::-1]"
   ]
  },
  {
   "cell_type": "code",
   "execution_count": 5,
   "metadata": {},
   "outputs": [],
   "source": [
    "#21. Merge Two Sorted Lists (Easy)\n",
    "class Solution:\n",
    "    def mergeTwoLists(self, l1: ListNode, l2: ListNode) -> ListNode:\n",
    "        res = ListNode(0)\n",
    "        tmp = res\n",
    "        while l1 or l2:\n",
    "            if l1 and l2:\n",
    "                if l1.val < l2.val:\n",
    "                    tmp.next = l1\n",
    "                    tmp = tmp.next\n",
    "                    l1 = l1.next\n",
    "                else:\n",
    "                    tmp.next = l2\n",
    "                    tmp = tmp.next\n",
    "                    l2 = l2.next\n",
    "            elif l1:\n",
    "                tmp.next = l1\n",
    "                tmp = tmp.next\n",
    "                l1 = l1.next\n",
    "            else:\n",
    "                tmp.next = l2\n",
    "                tmp = tmp.next\n",
    "                l2 = l2.next\n",
    "        return res.next"
   ]
  },
  {
   "cell_type": "code",
   "execution_count": 6,
   "metadata": {},
   "outputs": [],
   "source": [
    "#155. Min Stack (Easy)\n",
    "class Node:\n",
    "    def __init__(self, x, minimum):\n",
    "        self.val = x\n",
    "        self.min = minimum\n",
    "        \n",
    "class MinStack:\n",
    "    def __init__(self):\n",
    "        self.data = []\n",
    "        self.min = None\n",
    "        \n",
    "    def push(self, x: int) -> None:\n",
    "        if self.min == None:            \n",
    "            self.min = x\n",
    "        else:\n",
    "            if x < self.min:\n",
    "                self.min = x\n",
    "        node = Node(x, self.min)\n",
    "        self.data.append(node)\n",
    "\n",
    "    def pop(self) -> None:\n",
    "        self.data.remove(self.data[-1])\n",
    "        if self.data == []:\n",
    "            self.min = None\n",
    "        else:\n",
    "            self.min = self.data[-1].min\n",
    "\n",
    "    def top(self) -> int:\n",
    "        return self.data[-1].val\n",
    "\n",
    "    def getMin(self) -> int:\n",
    "        return self.data[-1].min"
   ]
  },
  {
   "cell_type": "code",
   "execution_count": null,
   "metadata": {},
   "outputs": [],
   "source": []
  }
 ],
 "metadata": {
  "kernelspec": {
   "display_name": "Python 3",
   "language": "python",
   "name": "python3"
  },
  "language_info": {
   "codemirror_mode": {
    "name": "ipython",
    "version": 3
   },
   "file_extension": ".py",
   "mimetype": "text/x-python",
   "name": "python",
   "nbconvert_exporter": "python",
   "pygments_lexer": "ipython3",
   "version": "3.7.6"
  }
 },
 "nbformat": 4,
 "nbformat_minor": 4
}
